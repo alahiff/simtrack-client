{
 "cells": [
  {
   "cell_type": "markdown",
   "metadata": {
    "colab_type": "text",
    "id": "view-in-github"
   },
   "source": [
    "<a href=\"https://colab.research.google.com/drive/14pg396pZ8hSWZJKisVa3d887rH7yLnEX?usp=sharing\" target=\"_parent\"><img src=\"https://colab.research.google.com/assets/colab-badge.svg\" alt=\"Open In Colab\"/></a>\n"
   ]
  },
  {
   "cell_type": "markdown",
   "metadata": {
    "colab_type": "text",
    "id": "-pVhOfzLx9us"
   },
   "source": [
    "# Using Simvue in Google Colab\n",
    "\n"
   ]
  },
  {
   "cell_type": "markdown",
   "metadata": {},
   "source": [
    "Install any dependencies if you have not already done so e.g. simvue"
   ]
  },
  {
   "cell_type": "code",
   "execution_count": null,
   "metadata": {},
   "outputs": [],
   "source": [
    "!pip install simvue"
   ]
  },
  {
   "cell_type": "code",
   "execution_count": null,
   "metadata": {},
   "outputs": [],
   "source": [
    "import os\n",
    "import random\n",
    "import time\n",
    "from simvue import Run\n",
    "\n",
    "run = Run()"
   ]
  },
  {
   "cell_type": "markdown",
   "metadata": {
    "colab_type": "text",
    "id": "wKJ4bd5rt1wy"
   },
   "source": [
    "\n",
    "### Initialisation"
   ]
  },
  {
   "cell_type": "markdown",
   "metadata": {},
   "source": [
    "To proceed you need to specify the URL of the Simvue server and provide an access token used to authenticate to the server.\n",
    "\n",
    "Login to https://app.simvue.io, go to the **Runs** page and click **Create new run**. \n",
    "\n",
    "Set the environment variables using the values from the **Create new run** modal as follows"
   ]
  },
  {
   "cell_type": "code",
   "execution_count": null,
   "metadata": {},
   "outputs": [],
   "source": [
    "os.environ[\"SIMVUE_URL\"] = \"https://app.simvue.io\"\n",
    "print(os.getenv(\"SIMVUE_URL\"))\n",
    "\n",
    "# The following avoids tokens being stored in the notebook\n",
    "import getpass\n",
    "\n",
    "os.environ[\"SIMVUE_TOKEN\"] = getpass.getpass(prompt=\"Token: \")"
   ]
  },
  {
   "cell_type": "markdown",
   "metadata": {},
   "source": [
    "Define the name of the run, metadata (key-value pairs) and tags (list of short labels). Metadata values are integers, floating point numbers or strings, and would typically be input or output parameters associated with a run. Runs can be filtered using both metadata and tags."
   ]
  },
  {
   "cell_type": "code",
   "execution_count": null,
   "metadata": {},
   "outputs": [],
   "source": [
    "run.init(\n",
    "    name=\"hello-world-%d\" % time.time(),\n",
    "    tags=[\"test\"],\n",
    "    metadata={\"key1\": 1, \"key2\": \"hello\"},\n",
    "    folder=\"/tests\",\n",
    ")"
   ]
  },
  {
   "cell_type": "markdown",
   "metadata": {
    "colab_type": "text",
    "id": "Rmai0dD30XzL"
   },
   "source": [
    "### Generate 10 random numbers, one per second"
   ]
  },
  {
   "cell_type": "code",
   "execution_count": null,
   "metadata": {},
   "outputs": [],
   "source": [
    "for count in range(0, 10):\n",
    "    run.log_metrics({\"random_number\": 10 * random.random()})\n",
    "    time.sleep(1)"
   ]
  },
  {
   "cell_type": "markdown",
   "metadata": {
    "colab_type": "text",
    "id": "8J3NBxtZpPcK"
   },
   "source": [
    "### Close the run"
   ]
  },
  {
   "cell_type": "code",
   "execution_count": null,
   "metadata": {},
   "outputs": [],
   "source": [
    "run.close()"
   ]
  },
  {
   "cell_type": "markdown",
   "metadata": {},
   "source": [
    "### To view the results login to https://app.simvue.io"
   ]
  }
 ],
 "metadata": {
  "colab": {
   "collapsed_sections": [],
   "name": "colab-github-demo.ipynb",
   "provenance": [],
   "version": "0.3.2"
  },
  "kernelspec": {
   "display_name": "Python 3.8.8 ('base')",
   "language": "python",
   "name": "python3"
  },
  "language_info": {
   "name": "python",
   "version": "3.8.8"
  },
  "vscode": {
   "interpreter": {
    "hash": "cfd12c460843f72ac31856d2a5b94956cfc657ba97314f23f6b0471b6cc99e27"
   }
  }
 },
 "nbformat": 4,
 "nbformat_minor": 0
}
